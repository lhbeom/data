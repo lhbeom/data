{
  "nbformat": 4,
  "nbformat_minor": 0,
  "metadata": {
    "colab": {
      "name": "Untitled6.ipynb의 사본",
      "provenance": []
    },
    "kernelspec": {
      "name": "python3",
      "display_name": "Python 3"
    },
    "language_info": {
      "name": "python"
    },
    "accelerator": "GPU"
  },
  "cells": [
    {
      "cell_type": "code",
      "source": [
        "!git clone https://github.com/lhbeom/data.git"
      ],
      "metadata": {
        "colab": {
          "base_uri": "https://localhost:8080/"
        },
        "id": "HDAYKdRp8A9O",
        "outputId": "b2276198-46c5-4f97-c8cd-e84cf18d94e0"
      },
      "execution_count": 15,
      "outputs": [
        {
          "output_type": "stream",
          "name": "stdout",
          "text": [
            "fatal: destination path 'data' already exists and is not an empty directory.\n"
          ]
        }
      ]
    },
    {
      "cell_type": "code",
      "execution_count": 16,
      "metadata": {
        "id": "4DzbFpp369Vn"
      },
      "outputs": [],
      "source": [
        "# 모듈 불러오기\n",
        "import pandas as pd\n",
        "import os\n",
        "import time\n",
        "import copy\n",
        "import random\n",
        "import pickle\n",
        "import numpy as np\n",
        "\n",
        "import torch\n",
        "import torch.nn as nn\n",
        "import torch.optim as optim\n",
        "\n",
        "# %% library\n",
        "import gc\n",
        "import os\n",
        "\n",
        "import matplotlib.pyplot as plt\n",
        "import numpy as np\n",
        "import pandas as pd\n",
        "import torch\n",
        "import torch.nn as nn\n",
        "from easydict import EasyDict as edict\n",
        "from sklearn.metrics import mean_absolute_percentage_error, r2_score\n",
        "from sklearn.model_selection import GridSearchCV, train_test_split\n",
        "from sklearn.preprocessing import StandardScaler\n",
        "\n",
        "import os\n",
        "\n",
        "import numpy as np\n",
        "import pandas as pd\n",
        "import torch\n",
        "import torch.nn as nn\n",
        "\n",
        "\n",
        "\n",
        "\n",
        "from easydict import EasyDict as edict\n",
        "from sklearn.ensemble import GradientBoostingRegressor, RandomForestRegressor\n",
        "from sklearn.metrics import mean_absolute_percentage_error, r2_score\n",
        "from sklearn.model_selection import GridSearchCV, train_test_split\n",
        "from sklearn.neural_network import MLPRegressor\n",
        "from sklearn.preprocessing import StandardScaler\n",
        "from sklearn.tree import DecisionTreeRegressor\n",
        "import matplotlib.pyplot as plt\n",
        "from xgboost.sklearn import XGBRegressor\n",
        "\n",
        "pd.set_option('display.max_columns', 100)"
      ]
    },
    {
      "cell_type": "code",
      "source": [
        "data_path=\"/content/data/sort_top100_공유.csv\"\n",
        "\n",
        "\n",
        "user_list = pd.read_csv(data_path)['User'].unique()\n",
        "data=pd.read_csv(data_path)\n",
        "data=data.loc[data.User.isin(user_list)]\n",
        "data=data.sort_values([\"User\", \"Date\"], ascending=(True, True))\n",
        "gc.collect()\n",
        "data[\"Date\"]=pd.to_datetime(data[\"Date\"])\n",
        "data['Date'] += pd.Timedelta(hours=9)\n",
        "data['hour'] = np.digitize(data['Date'].dt.hour, [0, 5, 9, 17, 21, 24])  # 9시 추가 및 시간 --> 새벽,아침,오후,저녁으로 구분\n",
        "seasons = np.digitize(data['Date'].dt.month, [0, 3, 6, 9, 12])  # 월별 --> 겨울, 봄, 여름, 가을 ,겨울로 구분 , change from 5 to 1\n",
        "data['Season'] = np.where(seasons == 5, 1, seasons)\n",
        "data.drop(['Date'], axis=1, inplace=True)\n",
        "data.reset_index(drop=True,inplace=True)\n",
        "\n",
        "user_with_data = data.copy()\n",
        "X_col_continious_names = [\"loadLevel\", \"DT_init\", \"Init_Display_time\"]\n",
        "X_col_ex_continious_names = [\"Season\", \"hour\",\"User\"]\n",
        "y_col_names = [\"Running_time\"]\n",
        "X_continious, X_ex_continious, y = user_with_data[X_col_continious_names], user_with_data[X_col_ex_continious_names], \\\n",
        "                                   user_with_data[y_col_names]\n",
        "X_ex_continious = pd.get_dummies(X_ex_continious, columns=X_col_ex_continious_names, drop_first=True)\n",
        "# y=y[y.columns[0]]\n",
        "\n",
        "x_col_time_names=[f\"{type}_{time}\" for type in [\"DT\",\"CT\",\"Hum\"] for time in list(range(5,55,5))]\n",
        "X_time_continious =  user_with_data[x_col_time_names]\n",
        "X = pd.concat([X_continious, X_time_continious, X_ex_continious], axis=1)\n",
        "\n",
        "\n",
        "train_x, test_x, train_y, test_y= train_test_split(X,y, test_size=0.20, random_state=0)\n",
        "train_x, valid_x, train_y, valid_y= train_test_split(train_x,train_y, test_size=0.25, random_state=0)\n",
        "\n",
        "scaler = StandardScaler()\n",
        "train_x.loc[:,X_col_continious_names] = scaler.fit_transform(train_x[X_col_continious_names])\n",
        "test_x.loc[:,X_col_continious_names] = scaler.transform(test_x[X_col_continious_names])\n",
        "valid_x.loc[:,X_col_continious_names] = scaler.transform(valid_x[X_col_continious_names])\n",
        "\n",
        "\n",
        "train_y=train_y.values.tolist()\n",
        "valid_y=valid_y.values.tolist()\n",
        "test_y=test_y.values.tolist()"
      ],
      "metadata": {
        "id": "BzH6pLGN7D-i"
      },
      "execution_count": 17,
      "outputs": []
    },
    {
      "cell_type": "code",
      "source": [
        "%%time\n",
        "def Data_for_LSTM(X1, n_inner_split):\n",
        "    X=X1\n",
        "    x_col_time_DT_0=[f\"{type}_{time}\" for type in [\"DT\"] for time in list(range(5,55,5))]\n",
        "    x_col_time_CT_0=[f\"{type}_{time}\" for type in [\"CT\"] for time in list(range(5,55,5))]\n",
        "    x_col_time_Hum_0=[f\"{type}_{time}\" for type in [\"Hum\"] for time in list(range(5,55,5))]\n",
        "\n",
        "    x_col_time_DT=[f\"{type}_{time}\" for type in [\"DT\"] for time in list(range(0,55,5))]\n",
        "    x_col_time_CT=[f\"{type}_{time}\" for type in [\"CT\"] for time in list(range(0,55,5))]\n",
        "    x_col_time_Hum=[f\"{type}_{time}\" for type in [\"Hum\"] for time in list(range(0,55,5))]\n",
        "\n",
        "\n",
        "\n",
        "    cols_continuous=[\"DT\",\"CT\",\"Hum\"]\n",
        "    cols=list(X1.columns)\n",
        "    cols_Needed = cols_continuous\n",
        "    cols_Needed.append(\"DT_init\")\n",
        "    cols_Needed.extend(x_col_time_DT_0)\n",
        "    cols_Needed.extend(x_col_time_CT_0)\n",
        "    cols_Needed.extend(x_col_time_Hum_0)\n",
        "    for i in (cols_Needed):\n",
        "        if i in cols:\n",
        "            cols.remove(i)\n",
        "    nn=n_inner_split\n",
        "    ###########################################################################3\n",
        "    Jlist=np.linspace(0,(X.shape[0]//nn)*nn,X.shape[0]//nn+1)\n",
        "    Jlist=list(Jlist.astype(int))\n",
        "    Jlist.append(X.shape[0])\n",
        "    print(Jlist)\n",
        "\n",
        "    for ii in range(0,len(Jlist)-1):\n",
        "        j=Jlist[ii]\n",
        "        print(j)\n",
        "        \n",
        "\n",
        "        s1= X1.iloc[j][x_col_time_DT_0]\n",
        "        s2= X1.iloc[j][x_col_time_CT_0]\n",
        "        s3= X1.iloc[j][x_col_time_Hum_0]\n",
        "\n",
        "        s1[\"DT_0\"]=X1.iloc[j][\"DT_init\"]\n",
        "        s2[\"CT_0\"]=X1.iloc[j][\"CT_5\"]\n",
        "        s3[\"Hum_0\"]=X1.iloc[j][\"Hum_5\"]\n",
        "\n",
        "        s1=s1.reindex(x_col_time_DT)\n",
        "        s1.index=range(0,55,5)\n",
        "        s2=s2.reindex(x_col_time_CT)\n",
        "        s2.index=range(0,55,5)\n",
        "        s3=s3.reindex(x_col_time_Hum)\n",
        "        s3.index=range(0,55,5)\n",
        "        a1=pd.concat([s1,s2,s3],axis=1)\n",
        "        a1.columns=['DT',\"CT\",\"Hum\"]\n",
        "\n",
        "        b=pd.DataFrame(X1.iloc[j][cols].values)\n",
        "        b=b.transpose()\n",
        "        b.columns=cols\n",
        "        a1=pd.concat([a1,b],axis=1)\n",
        "\n",
        "        a1.fillna(method='ffill',inplace=True)\n",
        "\n",
        "\n",
        "        globals()['DATA_{}'.format(ii)] = np.array(a1).reshape(1,a1.shape[0],a1.shape[1])\n",
        "\n",
        "\n",
        "        for k in range(j+1,Jlist[ii+1]):\n",
        "            if(k%1000==1):\n",
        "                print(k)\n",
        "            s1= X1.iloc[k][x_col_time_DT_0]\n",
        "            s2= X1.iloc[k][x_col_time_CT_0]\n",
        "            s3= X1.iloc[k][x_col_time_Hum_0]\n",
        "\n",
        "            s1[\"DT_0\"]=X1.iloc[k][\"DT_init\"]\n",
        "            s2[\"CT_0\"]=X1.iloc[k][\"CT_5\"]\n",
        "            s3[\"Hum_0\"]=X1.iloc[k][\"Hum_5\"]\n",
        "\n",
        "            s1=s1.reindex(x_col_time_DT)\n",
        "            s1.index=range(0,55,5)\n",
        "            s2=s2.reindex(x_col_time_CT)\n",
        "            s2.index=range(0,55,5)\n",
        "            s3=s3.reindex(x_col_time_Hum)\n",
        "            s3.index=range(0,55,5)\n",
        "            a1=pd.concat([s1,s2,s3],axis=1)\n",
        "            a1.columns=['DT',\"CT\",\"Hum\"]\n",
        "\n",
        "            b=pd.DataFrame(X1.iloc[k][cols].values)\n",
        "            b=b.transpose()\n",
        "            b.columns=cols\n",
        "            a1=pd.concat([a1,b],axis=1)\n",
        "\n",
        "            a1.fillna(method='ffill',inplace=True)\n",
        "\n",
        "            globals()['DATA_{}'.format(ii)] = np.concatenate([globals()['DATA_{}'.format(ii)],np.array(a1).reshape(1,a1.shape[0],a1.shape[1])],axis=0)\n",
        "\n",
        "\n",
        "    ######################################################################################################\n",
        "    DATA=np.concatenate([globals()['DATA_{}'.format(q)] for q in range(0,ii+1)],axis=0)\n",
        "    return DATA"
      ],
      "metadata": {
        "id": "ZXazvl4F7GHP",
        "colab": {
          "base_uri": "https://localhost:8080/"
        },
        "outputId": "b0e65e53-95b4-4ce1-e5b4-a0b33bdda179"
      },
      "execution_count": 18,
      "outputs": [
        {
          "output_type": "stream",
          "name": "stdout",
          "text": [
            "CPU times: user 5 µs, sys: 0 ns, total: 5 µs\n",
            "Wall time: 10 µs\n"
          ]
        }
      ]
    },
    {
      "cell_type": "code",
      "source": [
        "train_X_l=Data_for_LSTM(train_x,1000)\n",
        "# train_X_l=Data_for_LSTM(X,1000)\n",
        "test_X_l=Data_for_LSTM(test_x,1000)\n",
        "valid_X_l=Data_for_LSTM(valid_x,1000)\n",
        "\n",
        "import pickle\n",
        "\n",
        "# 데이터 저장\n",
        "with open('Data_lstm_train.pkl', 'wb') as f:\n",
        "\tpickle.dump(train_X_l, f, protocol=pickle.HIGHEST_PROTOCOL)\n",
        "    \n",
        "with open('Data_lstm_test.pkl', 'wb') as f:\n",
        "\tpickle.dump(test_X_l, f, protocol=pickle.HIGHEST_PROTOCOL)\n",
        "    \n",
        "with open('Data_lstm_val.pkl', 'wb') as f:\n",
        "\tpickle.dump(valid_X_l, f, protocol=pickle.HIGHEST_PROTOCOL)"
      ],
      "metadata": {
        "id": "pGfiAteM7IEt",
        "colab": {
          "base_uri": "https://localhost:8080/"
        },
        "outputId": "2c7e5dc8-1bf6-4444-a459-c135e76f65c2"
      },
      "execution_count": 19,
      "outputs": [
        {
          "output_type": "stream",
          "name": "stdout",
          "text": [
            "[0, 1000, 2000, 3000, 4000, 5000, 6000, 7000, 8000, 9000, 10000, 11000, 12000, 13000, 14000, 15000, 16000, 17000, 18000, 19000, 20000, 21000, 22000, 22392]\n",
            "0\n",
            "1\n",
            "1000\n",
            "1001\n",
            "2000\n",
            "2001\n",
            "3000\n",
            "3001\n",
            "4000\n",
            "4001\n",
            "5000\n",
            "5001\n",
            "6000\n",
            "6001\n",
            "7000\n",
            "7001\n",
            "8000\n",
            "8001\n",
            "9000\n",
            "9001\n",
            "10000\n",
            "10001\n",
            "11000\n",
            "11001\n",
            "12000\n",
            "12001\n",
            "13000\n",
            "13001\n",
            "14000\n",
            "14001\n",
            "15000\n",
            "15001\n",
            "16000\n",
            "16001\n",
            "17000\n",
            "17001\n",
            "18000\n",
            "18001\n",
            "19000\n",
            "19001\n",
            "20000\n",
            "20001\n",
            "21000\n",
            "21001\n",
            "22000\n",
            "22001\n",
            "[0, 1000, 2000, 3000, 4000, 5000, 6000, 7000, 7465]\n",
            "0\n",
            "1\n",
            "1000\n",
            "1001\n",
            "2000\n",
            "2001\n",
            "3000\n",
            "3001\n",
            "4000\n",
            "4001\n",
            "5000\n",
            "5001\n",
            "6000\n",
            "6001\n",
            "7000\n",
            "7001\n",
            "[0, 1000, 2000, 3000, 4000, 5000, 6000, 7000, 7465]\n",
            "0\n",
            "1\n",
            "1000\n",
            "1001\n",
            "2000\n",
            "2001\n",
            "3000\n",
            "3001\n",
            "4000\n",
            "4001\n",
            "5000\n",
            "5001\n",
            "6000\n",
            "6001\n",
            "7000\n",
            "7001\n"
          ]
        }
      ]
    },
    {
      "cell_type": "code",
      "source": [
        "import pickle\n",
        "\n",
        "# 데이터 로드\n",
        "with open('Data_lstm_train.pkl', 'rb') as f:\n",
        "\ttrain_X_l1=pickle.load(f)\n",
        "    \n",
        "with open('Data_lstm_test.pkl', 'rb') as f:\n",
        "\ttest_X_l1=pickle.load(f)\n",
        "    \n",
        "with open('Data_lstm_val.pkl', 'rb') as f:\n",
        "\tvalid_X_l1=pickle.load(f)"
      ],
      "metadata": {
        "id": "hic7y2XU7MII"
      },
      "execution_count": 20,
      "outputs": []
    },
    {
      "cell_type": "code",
      "source": [
        "# Hyperparameter setting\n",
        "data_dir = '/content/LG_time_series_day11/input/har-data'\n",
        "batch_size = 32\n",
        "num_classes = 6\n",
        "num_epochs = 200\n",
        "# window_size = 50 # 타임라인 크기\n",
        "window_size = 3 # 타임라인 크기\n",
        "input_size = 111\n",
        "hidden_size = 400 # 히든레이어의 노드 개수 개념\n",
        "num_layers = 2\n",
        "bidirectional = True\n",
        "\n",
        "random_seed = 42\n",
        "device = torch.device(\"cuda:0\" if torch.cuda.is_available() else \"cpu\") # Detect if we have a GPU available"
      ],
      "metadata": {
        "id": "K7rgF6R17N5S"
      },
      "execution_count": 28,
      "outputs": []
    },
    {
      "cell_type": "code",
      "source": [
        "# seed 고정\n",
        "torch.manual_seed(random_seed)\n",
        "torch.cuda.manual_seed(random_seed)\n",
        "torch.backends.cudnn.deterministic = True\n",
        "torch.backends.cudnn.benchmark = False\n",
        "np.random.seed(random_seed)\n",
        "random.seed(random_seed)"
      ],
      "metadata": {
        "id": "2mmJzB6L7PJj"
      },
      "execution_count": 29,
      "outputs": []
    },
    {
      "cell_type": "code",
      "source": [
        "def create_classification_dataset(Train, Valid, Test, time_range, batch_size):\n",
        "    print(len(Train))\n",
        "    train_x, valid_x, test_x = Train[0], Valid[0], Test[0]\n",
        "    train_y, valid_y, test_y = Train[1], Valid[1], Test[1]\n",
        "\n",
        "    # train data를 시간순으로 8:2의 비율로 train/validation set으로 분할\n",
        "    train_x=train_x[:,:time_range,:]\n",
        "    valid_x=valid_x[:,:time_range,:]\n",
        "    test_x=test_x[:,:time_range,:]\n",
        "   \n",
        "\n",
        "    \n",
        "    print(train_x.shape)\n",
        "    # print(type(x_train))\n",
        "    # # train/validation/test 데이터를 window_size 시점 길이로 분할\n",
        "    # datasets = []\n",
        "    # for set in [(x_train, y_train, n_train), (x_valid, y_valid, n_valid), (x_test, y_test, n_test,2)]:\n",
        "    #     T = set[0].shape[-1]\n",
        "    #     print(len(set))\n",
        "    #     print(x_train.shape, x_valid.shape,x_test.shape)\n",
        "    #     print(set[0].shape, set[1].shape,set[2])\n",
        "    #     windows = np.split(set[0][:, :, :window_size * (T // window_size)], (T // window_size), -1)\n",
        "    #     print(\"전\",len(windows))\n",
        "    #     windows = np.concatenate(windows, 0)\n",
        "    #     print(\"후\",len(windows))\n",
        "    #     labels = np.split(set[1][:, :window_size * (T // window_size)], (T // window_size), -1)\n",
        "    #     print(\"전1\",len(labels[0][4]))\n",
        "    #     labels = np.round(np.mean(np.concatenate(labels, 0), -1))\n",
        "    #     print(\"후1\",len(labels))\n",
        "    #     datasets.append(torch.utils.data.TensorDataset(torch.Tensor(windows), torch.Tensor(labels)))\n",
        "\n",
        "    # # train/validation/test DataLoader 구축\n",
        "    # print(\"후1\",len(datasets[0]),len(datasets[1]),len(datasets[2]))\n",
        "    # \n",
        "    \n",
        "    # train/validation/test 데이터를 window_size 시점 길이로 분할\n",
        "    datasets = []\n",
        "    for set in [(train_x, train_y), (valid_x, valid_y), (test_x, test_y)]:\n",
        "        datasets.append(torch.utils.data.TensorDataset(torch.Tensor(set[0]), torch.Tensor(set[1])))\n",
        "\n",
        "    trainset, validset, testset = datasets[0], datasets[1], datasets[2]\n",
        "    train_loader = torch.utils.data.DataLoader(trainset, batch_size=batch_size, shuffle=True)\n",
        "    valid_loader = torch.utils.data.DataLoader(validset, batch_size=batch_size, shuffle=True)\n",
        "    test_loader = torch.utils.data.DataLoader(testset, batch_size=batch_size, shuffle=True)\n",
        "\n",
        "\n",
        "    return train_loader, valid_loader, test_loader\n",
        "  "
      ],
      "metadata": {
        "id": "BIk7WMtS7P3S"
      },
      "execution_count": 30,
      "outputs": []
    },
    {
      "cell_type": "code",
      "source": [
        "class RNN(nn.Module):\n",
        "    def __init__(self, input_size, hidden_size, num_layers,  bidirectional, rnn_type='rnn'):\n",
        "        super(RNN, self).__init__()\n",
        "        self.hidden_size = hidden_size\n",
        "        self.num_layers = num_layers\n",
        "        self.rnn_type = rnn_type\n",
        "        self.num_directions = 2 if bidirectional == True else 1\n",
        "        \n",
        "        # rnn_type에 따른 recurrent layer 설정\n",
        "        if self.rnn_type == 'rnn':\n",
        "            self.rnn = nn.RNN(input_size, hidden_size, num_layers, batch_first=True, bidirectional=bidirectional)\n",
        "        elif self.rnn_type == 'lstm':\n",
        "            self.rnn = nn.LSTM(input_size, hidden_size, num_layers, batch_first=True, bidirectional=bidirectional)\n",
        "        elif self.rnn_type == 'gru':\n",
        "            self.rnn = nn.GRU(input_size, hidden_size, num_layers, batch_first=True, bidirectional=bidirectional)\n",
        "        \n",
        "        # bidirectional에 따른 fc layer 구축\n",
        "        # bidirectional 여부에 따라 hidden state의 shape가 달라짐 (True: 2 * hidden_size, False: hidden_size)\n",
        "        self.fc = nn.Linear(self.num_directions * hidden_size, 1)\n",
        "\n",
        "    def forward(self, x):\n",
        "        # data dimension: (batch_size x input_size x seq_len) -> (batch_size x seq_len x input_size)로 변환\n",
        "        # x = torch.transpose(x, 1, 2)\n",
        "        \n",
        "        # initial hidden states 설정\n",
        "        h0 = torch.zeros(self.num_directions * self.num_layers, x.size(0), self.hidden_size).to(device)\n",
        "        \n",
        "        # 선택한 rnn_type의 RNN으로부터 output 도출\n",
        "        if self.rnn_type in ['rnn', 'gru']:\n",
        "            out, h_n = self.rnn(x, h0)  # out: tensor of shape (batch_size, seq_length, hidden_size)\n",
        "        else:\n",
        "            # initial cell states 설정\n",
        "            c0 = torch.zeros(self.num_directions * self.num_layers, x.size(0), self.hidden_size).to(device)\n",
        "            out, _ = self.rnn(x, (h0, c0))  # out: tensor of shape (batch_size, seq_length, hidden_size)\n",
        "        \n",
        "        out = self.fc(out[:, -1, :]) #output 중 seq의 마지막 시점\n",
        "        # out = self.fc(torch.transepose(h_n[-1, :, :],0,1)) #h_n에서도 가져 올 수 있으나 더 복잡하다\n",
        "        return out"
      ],
      "metadata": {
        "id": "mXM171A07TUe"
      },
      "execution_count": 31,
      "outputs": []
    },
    {
      "cell_type": "code",
      "source": [
        "# LSTM 모델 구축\n",
        "\n",
        "lstm = RNN(input_size, hidden_size, num_layers, bidirectional, rnn_type='lstm')\n",
        "lstm = lstm.to(device)\n",
        "print(lstm)"
      ],
      "metadata": {
        "id": "rIo6ooTL7VJJ",
        "colab": {
          "base_uri": "https://localhost:8080/"
        },
        "outputId": "f13c0bf3-2c5d-478e-9190-da65c58b2c7e"
      },
      "execution_count": 32,
      "outputs": [
        {
          "output_type": "stream",
          "name": "stdout",
          "text": [
            "RNN(\n",
            "  (rnn): LSTM(111, 400, num_layers=2, batch_first=True, bidirectional=True)\n",
            "  (fc): Linear(in_features=800, out_features=1, bias=True)\n",
            ")\n"
          ]
        }
      ]
    },
    {
      "cell_type": "code",
      "source": [
        "# GRU 모델 구축\n",
        "gru = RNN(input_size, hidden_size, num_layers, bidirectional, rnn_type='gru')\n",
        "gru = gru.to(device)\n",
        "print(gru)"
      ],
      "metadata": {
        "id": "v2_Xzd9T7W70",
        "colab": {
          "base_uri": "https://localhost:8080/"
        },
        "outputId": "9c652efc-47be-4a02-c7fa-a64374da5064"
      },
      "execution_count": 33,
      "outputs": [
        {
          "output_type": "stream",
          "name": "stdout",
          "text": [
            "RNN(\n",
            "  (rnn): GRU(111, 400, num_layers=2, batch_first=True, bidirectional=True)\n",
            "  (fc): Linear(in_features=800, out_features=1, bias=True)\n",
            ")\n"
          ]
        }
      ]
    },
    {
      "cell_type": "markdown",
      "source": [
        "## 3.Training"
      ],
      "metadata": {
        "id": "X--lmr1p7kiC"
      }
    },
    {
      "cell_type": "code",
      "source": [
        "def train_model(model, dataloaders, criterion, num_epochs, modelType, optimizer):\n",
        "    since = time.time()\n",
        "\n",
        "    val_acc_history = []\n",
        "\n",
        "    best_model_wts = copy.deepcopy(model.state_dict())\n",
        "    best_loss= np.inf\n",
        "\n",
        "    for epoch in range(num_epochs):\n",
        "        if(epoch%50 == 0):\n",
        "            print('Epoch {}/{}'.format(epoch + 1, num_epochs))\n",
        "            print('-' * 10)\n",
        "\n",
        "        # 각 epoch마다 순서대로 training과 validation을 진행\n",
        "        for phase in ['train', 'val']:\n",
        "            if phase == 'train':\n",
        "                model.train()  # 모델을 training mode로 설정\n",
        "            else:\n",
        "                model.eval()   # 모델을 validation mode로 설정\n",
        "\n",
        "            running_loss = 0.0\n",
        "            running_loss2= 0.0\n",
        "            running_total = 0\n",
        "\n",
        "            # training과 validation 단계에 맞는 dataloader에 대하여 학습/검증 진행\n",
        "            for inputs, labels in dataloaders[phase]:\n",
        "                inputs = inputs.to(device)\n",
        "                labels = labels.to(device, dtype=torch.float32)\n",
        "\n",
        "                # parameter gradients를 0으로 설정\n",
        "                optimizer.zero_grad()\n",
        "\n",
        "                # forward\n",
        "                # training 단계에서만 gradient 업데이트 수행\n",
        "                with torch.set_grad_enabled(phase == 'train'):\n",
        "                    # input을 model에 넣어 output을 도출한 후, loss를 계산함\n",
        "                    outputs = model(inputs)\n",
        "                    loss = criterion(outputs.to(torch.float32), labels.to(torch.float32))\n",
        "\n",
        "                    # output 중 최댓값의 위치에 해당하는 class로 예측을 수행\n",
        "                    _, preds = torch.max(outputs, 1)\n",
        "\n",
        "                    # backward (optimize): training 단계에서만 수행\n",
        "                    if phase == 'train':\n",
        "                        loss.backward()\n",
        "                        optimizer.step()\n",
        "\n",
        "                # batch별 loss를 축적함\n",
        "                running_loss += loss.item() * inputs.size(0)\n",
        "                running_loss2 += mean_absolute_percentage_error(labels, outputs) * inputs.size(0)\n",
        "                running_corrects += torch.sum(preds == labels.data)\n",
        "                running_total += labels.size(0)\n",
        "\n",
        "            # epoch의 loss 및 accuracy 도출\n",
        "            epoch_loss = running_loss / running_total\n",
        "            epoch_loss2 = running_loss2 / running_total\n",
        "\n",
        "            if(epoch%50 == 0):\n",
        "                print('{} Loss: {:.4f} MAPE: {:.4f}'.format(phase, epoch_loss, epoch_loss2))\n",
        "\n",
        "            # validation 단계에서 validation loss가 감소할 때마다 best model 가중치를 업데이트함\n",
        "            if phase == 'val' and epoch_loss < best_loss :\n",
        "                best_loss  = epoch_loss \n",
        "                best_loss2 =  epoch_loss2\n",
        "                best_model_wts = copy.deepcopy(model.state_dict())\n",
        "                torch.save(best_model_wts, './best_model_{}.pt'.format(modelType))\n",
        "            if phase == 'val':\n",
        "                val_acc_history.append(epoch_loss)\n",
        "\n",
        "        print()\n",
        "\n",
        "    # 전체 학습 시간 계산\n",
        "    time_elapsed = time.time() - since\n",
        "    print('Training complete in {:.0f}m {:.0f}s'.format(time_elapsed // 60, time_elapsed % 60))\n",
        "    print('Best val MAE / MAPE: {:4f} / {:4f}'.format(best_loss, best_loss2))\n",
        "\n",
        "    # validation loss가 가장 낮았을 때의 best model 가중치를 불러와 best model을 구축함\n",
        "    model.load_state_dict(best_model_wts)\n",
        "#     torch.save(model, './best_model_{}.pt'.format(modelType))\n",
        "    \n",
        "    # best model 가중치 저장\n",
        "    # torch.save(best_model_wts, '../output/best_model.pt')\n",
        "    return model, val_acc_history"
      ],
      "metadata": {
        "id": "4gqb5fbK7gwX"
      },
      "execution_count": 34,
      "outputs": []
    },
    {
      "cell_type": "code",
      "source": [
        "# trining 단계에서 사용할 Dataloader dictionary 생성\n",
        "dataloaders_dict = {\n",
        "    'train': train_loader,\n",
        "    'val': valid_loader\n",
        "}\n",
        "\n",
        "# loss function 설정\n",
        "# criterion = nn.CrossEntropyLoss()\n",
        "criterion = nn.L1Loss()"
      ],
      "metadata": {
        "id": "ji-j_uty7p81",
        "colab": {
          "base_uri": "https://localhost:8080/",
          "height": 248
        },
        "outputId": "405ae8b9-6c02-4bee-a875-9e9714f6e8db"
      },
      "execution_count": 14,
      "outputs": [
        {
          "output_type": "error",
          "ename": "NameError",
          "evalue": "ignored",
          "traceback": [
            "\u001b[0;31m---------------------------------------------------------------------------\u001b[0m",
            "\u001b[0;31mNameError\u001b[0m                                 Traceback (most recent call last)",
            "\u001b[0;32m<ipython-input-14-524d8946c913>\u001b[0m in \u001b[0;36m<module>\u001b[0;34m()\u001b[0m\n\u001b[1;32m      1\u001b[0m \u001b[0;31m# trining 단계에서 사용할 Dataloader dictionary 생성\u001b[0m\u001b[0;34m\u001b[0m\u001b[0;34m\u001b[0m\u001b[0;34m\u001b[0m\u001b[0m\n\u001b[1;32m      2\u001b[0m dataloaders_dict = {\n\u001b[0;32m----> 3\u001b[0;31m     \u001b[0;34m'train'\u001b[0m\u001b[0;34m:\u001b[0m \u001b[0mtrain_loader\u001b[0m\u001b[0;34m,\u001b[0m\u001b[0;34m\u001b[0m\u001b[0;34m\u001b[0m\u001b[0m\n\u001b[0m\u001b[1;32m      4\u001b[0m     \u001b[0;34m'val'\u001b[0m\u001b[0;34m:\u001b[0m \u001b[0mvalid_loader\u001b[0m\u001b[0;34m\u001b[0m\u001b[0;34m\u001b[0m\u001b[0m\n\u001b[1;32m      5\u001b[0m }\n",
            "\u001b[0;31mNameError\u001b[0m: name 'train_loader' is not defined"
          ]
        }
      ]
    },
    {
      "cell_type": "code",
      "source": [
        "time_range=3\n",
        "batch_size=64\n",
        "train_loader, valid_loader, test_loader = create_classification_dataset([train_X_l, train_y], [valid_X_l, valid_y], \n",
        "                                                                        [test_X_l, test_y],time_range,batch_size)\n",
        "\n",
        "# trining 단계에서 사용할 Dataloader dictionary 생성\n",
        "dataloaders_dict = {\n",
        "    'train': train_loader,\n",
        "    'val': valid_loader\n",
        "}\n",
        "\n",
        "# loss function 설정\n",
        "# criterion = nn.CrossEntropyLoss()\n",
        "criterion = nn.L1Loss()\n",
        "# LSTM 모델 1\n",
        "lstm, lstm_val_acc_history = train_model(lstm, dataloaders_dict, criterion, 300,\"LSTM\",\n",
        "                                         optimizer=optim.Adam(lstm.parameters(), lr=0.0001))"
      ],
      "metadata": {
        "id": "HEr45Qbv7uof",
        "colab": {
          "base_uri": "https://localhost:8080/",
          "height": 437
        },
        "outputId": "7ed6f476-d149-4a8c-d888-f41f14acd1d0"
      },
      "execution_count": 35,
      "outputs": [
        {
          "output_type": "stream",
          "name": "stdout",
          "text": [
            "2\n",
            "(22392, 3, 111)\n",
            "Epoch 1/300\n",
            "----------\n"
          ]
        },
        {
          "output_type": "error",
          "ename": "TypeError",
          "evalue": "ignored",
          "traceback": [
            "\u001b[0;31m---------------------------------------------------------------------------\u001b[0m",
            "\u001b[0;31mTypeError\u001b[0m                                 Traceback (most recent call last)",
            "\u001b[0;32m<ipython-input-35-ca77a2c7be30>\u001b[0m in \u001b[0;36m<module>\u001b[0;34m()\u001b[0m\n\u001b[1;32m     15\u001b[0m \u001b[0;31m# LSTM 모델 1\u001b[0m\u001b[0;34m\u001b[0m\u001b[0;34m\u001b[0m\u001b[0;34m\u001b[0m\u001b[0m\n\u001b[1;32m     16\u001b[0m lstm, lstm_val_acc_history = train_model(lstm, dataloaders_dict, criterion, 300,\"LSTM\",\n\u001b[0;32m---> 17\u001b[0;31m                                          optimizer=optim.Adam(lstm.parameters(), lr=0.0001))\n\u001b[0m",
            "\u001b[0;32m<ipython-input-34-d50a2be0f563>\u001b[0m in \u001b[0;36mtrain_model\u001b[0;34m(model, dataloaders, criterion, num_epochs, modelType, optimizer)\u001b[0m\n\u001b[1;32m     48\u001b[0m                 \u001b[0;31m# batch별 loss를 축적함\u001b[0m\u001b[0;34m\u001b[0m\u001b[0;34m\u001b[0m\u001b[0;34m\u001b[0m\u001b[0m\n\u001b[1;32m     49\u001b[0m                 \u001b[0mrunning_loss\u001b[0m \u001b[0;34m+=\u001b[0m \u001b[0mloss\u001b[0m\u001b[0;34m.\u001b[0m\u001b[0mitem\u001b[0m\u001b[0;34m(\u001b[0m\u001b[0;34m)\u001b[0m \u001b[0;34m*\u001b[0m \u001b[0minputs\u001b[0m\u001b[0;34m.\u001b[0m\u001b[0msize\u001b[0m\u001b[0;34m(\u001b[0m\u001b[0;36m0\u001b[0m\u001b[0;34m)\u001b[0m\u001b[0;34m\u001b[0m\u001b[0;34m\u001b[0m\u001b[0m\n\u001b[0;32m---> 50\u001b[0;31m                 \u001b[0mrunning_loss2\u001b[0m \u001b[0;34m+=\u001b[0m \u001b[0mmean_absolute_percentage_error\u001b[0m\u001b[0;34m(\u001b[0m\u001b[0mlabels\u001b[0m\u001b[0;34m,\u001b[0m \u001b[0moutputs\u001b[0m\u001b[0;34m)\u001b[0m \u001b[0;34m*\u001b[0m \u001b[0minputs\u001b[0m\u001b[0;34m.\u001b[0m\u001b[0msize\u001b[0m\u001b[0;34m(\u001b[0m\u001b[0;36m0\u001b[0m\u001b[0;34m)\u001b[0m\u001b[0;34m\u001b[0m\u001b[0;34m\u001b[0m\u001b[0m\n\u001b[0m\u001b[1;32m     51\u001b[0m                 \u001b[0mrunning_corrects\u001b[0m \u001b[0;34m+=\u001b[0m \u001b[0mtorch\u001b[0m\u001b[0;34m.\u001b[0m\u001b[0msum\u001b[0m\u001b[0;34m(\u001b[0m\u001b[0mpreds\u001b[0m \u001b[0;34m==\u001b[0m \u001b[0mlabels\u001b[0m\u001b[0;34m.\u001b[0m\u001b[0mdata\u001b[0m\u001b[0;34m)\u001b[0m\u001b[0;34m\u001b[0m\u001b[0;34m\u001b[0m\u001b[0m\n\u001b[1;32m     52\u001b[0m                 \u001b[0mrunning_total\u001b[0m \u001b[0;34m+=\u001b[0m \u001b[0mlabels\u001b[0m\u001b[0;34m.\u001b[0m\u001b[0msize\u001b[0m\u001b[0;34m(\u001b[0m\u001b[0;36m0\u001b[0m\u001b[0;34m)\u001b[0m\u001b[0;34m\u001b[0m\u001b[0;34m\u001b[0m\u001b[0m\n",
            "\u001b[0;32m/usr/local/lib/python3.7/dist-packages/sklearn/utils/validation.py\u001b[0m in \u001b[0;36minner_f\u001b[0;34m(*args, **kwargs)\u001b[0m\n\u001b[1;32m     63\u001b[0m             \u001b[0mextra_args\u001b[0m \u001b[0;34m=\u001b[0m \u001b[0mlen\u001b[0m\u001b[0;34m(\u001b[0m\u001b[0margs\u001b[0m\u001b[0;34m)\u001b[0m \u001b[0;34m-\u001b[0m \u001b[0mlen\u001b[0m\u001b[0;34m(\u001b[0m\u001b[0mall_args\u001b[0m\u001b[0;34m)\u001b[0m\u001b[0;34m\u001b[0m\u001b[0;34m\u001b[0m\u001b[0m\n\u001b[1;32m     64\u001b[0m             \u001b[0;32mif\u001b[0m \u001b[0mextra_args\u001b[0m \u001b[0;34m<=\u001b[0m \u001b[0;36m0\u001b[0m\u001b[0;34m:\u001b[0m\u001b[0;34m\u001b[0m\u001b[0;34m\u001b[0m\u001b[0m\n\u001b[0;32m---> 65\u001b[0;31m                 \u001b[0;32mreturn\u001b[0m \u001b[0mf\u001b[0m\u001b[0;34m(\u001b[0m\u001b[0;34m*\u001b[0m\u001b[0margs\u001b[0m\u001b[0;34m,\u001b[0m \u001b[0;34m**\u001b[0m\u001b[0mkwargs\u001b[0m\u001b[0;34m)\u001b[0m\u001b[0;34m\u001b[0m\u001b[0;34m\u001b[0m\u001b[0m\n\u001b[0m\u001b[1;32m     66\u001b[0m \u001b[0;34m\u001b[0m\u001b[0m\n\u001b[1;32m     67\u001b[0m             \u001b[0;31m# extra_args > 0\u001b[0m\u001b[0;34m\u001b[0m\u001b[0;34m\u001b[0m\u001b[0;34m\u001b[0m\u001b[0m\n",
            "\u001b[0;32m/usr/local/lib/python3.7/dist-packages/sklearn/metrics/_regression.py\u001b[0m in \u001b[0;36mmean_absolute_percentage_error\u001b[0;34m(y_true, y_pred, sample_weight, multioutput)\u001b[0m\n\u001b[1;32m    360\u001b[0m     \"\"\"\n\u001b[1;32m    361\u001b[0m     y_type, y_true, y_pred, multioutput = _check_reg_targets(\n\u001b[0;32m--> 362\u001b[0;31m         \u001b[0my_true\u001b[0m\u001b[0;34m,\u001b[0m \u001b[0my_pred\u001b[0m\u001b[0;34m,\u001b[0m \u001b[0mmultioutput\u001b[0m\u001b[0;34m\u001b[0m\u001b[0;34m\u001b[0m\u001b[0m\n\u001b[0m\u001b[1;32m    363\u001b[0m     )\n\u001b[1;32m    364\u001b[0m     \u001b[0mcheck_consistent_length\u001b[0m\u001b[0;34m(\u001b[0m\u001b[0my_true\u001b[0m\u001b[0;34m,\u001b[0m \u001b[0my_pred\u001b[0m\u001b[0;34m,\u001b[0m \u001b[0msample_weight\u001b[0m\u001b[0;34m)\u001b[0m\u001b[0;34m\u001b[0m\u001b[0;34m\u001b[0m\u001b[0m\n",
            "\u001b[0;32m/usr/local/lib/python3.7/dist-packages/sklearn/metrics/_regression.py\u001b[0m in \u001b[0;36m_check_reg_targets\u001b[0;34m(y_true, y_pred, multioutput, dtype)\u001b[0m\n\u001b[1;32m     93\u001b[0m     \"\"\"\n\u001b[1;32m     94\u001b[0m     \u001b[0mcheck_consistent_length\u001b[0m\u001b[0;34m(\u001b[0m\u001b[0my_true\u001b[0m\u001b[0;34m,\u001b[0m \u001b[0my_pred\u001b[0m\u001b[0;34m)\u001b[0m\u001b[0;34m\u001b[0m\u001b[0;34m\u001b[0m\u001b[0m\n\u001b[0;32m---> 95\u001b[0;31m     \u001b[0my_true\u001b[0m \u001b[0;34m=\u001b[0m \u001b[0mcheck_array\u001b[0m\u001b[0;34m(\u001b[0m\u001b[0my_true\u001b[0m\u001b[0;34m,\u001b[0m \u001b[0mensure_2d\u001b[0m\u001b[0;34m=\u001b[0m\u001b[0;32mFalse\u001b[0m\u001b[0;34m,\u001b[0m \u001b[0mdtype\u001b[0m\u001b[0;34m=\u001b[0m\u001b[0mdtype\u001b[0m\u001b[0;34m)\u001b[0m\u001b[0;34m\u001b[0m\u001b[0;34m\u001b[0m\u001b[0m\n\u001b[0m\u001b[1;32m     96\u001b[0m     \u001b[0my_pred\u001b[0m \u001b[0;34m=\u001b[0m \u001b[0mcheck_array\u001b[0m\u001b[0;34m(\u001b[0m\u001b[0my_pred\u001b[0m\u001b[0;34m,\u001b[0m \u001b[0mensure_2d\u001b[0m\u001b[0;34m=\u001b[0m\u001b[0;32mFalse\u001b[0m\u001b[0;34m,\u001b[0m \u001b[0mdtype\u001b[0m\u001b[0;34m=\u001b[0m\u001b[0mdtype\u001b[0m\u001b[0;34m)\u001b[0m\u001b[0;34m\u001b[0m\u001b[0;34m\u001b[0m\u001b[0m\n\u001b[1;32m     97\u001b[0m \u001b[0;34m\u001b[0m\u001b[0m\n",
            "\u001b[0;32m/usr/local/lib/python3.7/dist-packages/sklearn/utils/validation.py\u001b[0m in \u001b[0;36mcheck_array\u001b[0;34m(array, accept_sparse, accept_large_sparse, dtype, order, copy, force_all_finite, ensure_2d, allow_nd, ensure_min_samples, ensure_min_features, estimator)\u001b[0m\n\u001b[1;32m    744\u001b[0m                     \u001b[0marray\u001b[0m \u001b[0;34m=\u001b[0m \u001b[0marray\u001b[0m\u001b[0;34m.\u001b[0m\u001b[0mastype\u001b[0m\u001b[0;34m(\u001b[0m\u001b[0mdtype\u001b[0m\u001b[0;34m,\u001b[0m \u001b[0mcasting\u001b[0m\u001b[0;34m=\u001b[0m\u001b[0;34m\"unsafe\"\u001b[0m\u001b[0;34m,\u001b[0m \u001b[0mcopy\u001b[0m\u001b[0;34m=\u001b[0m\u001b[0;32mFalse\u001b[0m\u001b[0;34m)\u001b[0m\u001b[0;34m\u001b[0m\u001b[0;34m\u001b[0m\u001b[0m\n\u001b[1;32m    745\u001b[0m                 \u001b[0;32melse\u001b[0m\u001b[0;34m:\u001b[0m\u001b[0;34m\u001b[0m\u001b[0;34m\u001b[0m\u001b[0m\n\u001b[0;32m--> 746\u001b[0;31m                     \u001b[0marray\u001b[0m \u001b[0;34m=\u001b[0m \u001b[0mnp\u001b[0m\u001b[0;34m.\u001b[0m\u001b[0masarray\u001b[0m\u001b[0;34m(\u001b[0m\u001b[0marray\u001b[0m\u001b[0;34m,\u001b[0m \u001b[0morder\u001b[0m\u001b[0;34m=\u001b[0m\u001b[0morder\u001b[0m\u001b[0;34m,\u001b[0m \u001b[0mdtype\u001b[0m\u001b[0;34m=\u001b[0m\u001b[0mdtype\u001b[0m\u001b[0;34m)\u001b[0m\u001b[0;34m\u001b[0m\u001b[0;34m\u001b[0m\u001b[0m\n\u001b[0m\u001b[1;32m    747\u001b[0m             \u001b[0;32mexcept\u001b[0m \u001b[0mComplexWarning\u001b[0m \u001b[0;32mas\u001b[0m \u001b[0mcomplex_warning\u001b[0m\u001b[0;34m:\u001b[0m\u001b[0;34m\u001b[0m\u001b[0;34m\u001b[0m\u001b[0m\n\u001b[1;32m    748\u001b[0m                 raise ValueError(\n",
            "\u001b[0;32m/usr/local/lib/python3.7/dist-packages/torch/_tensor.py\u001b[0m in \u001b[0;36m__array__\u001b[0;34m(self, dtype)\u001b[0m\n\u001b[1;32m    676\u001b[0m             \u001b[0;32mreturn\u001b[0m \u001b[0mhandle_torch_function\u001b[0m\u001b[0;34m(\u001b[0m\u001b[0mTensor\u001b[0m\u001b[0;34m.\u001b[0m\u001b[0m__array__\u001b[0m\u001b[0;34m,\u001b[0m \u001b[0;34m(\u001b[0m\u001b[0mself\u001b[0m\u001b[0;34m,\u001b[0m\u001b[0;34m)\u001b[0m\u001b[0;34m,\u001b[0m \u001b[0mself\u001b[0m\u001b[0;34m,\u001b[0m \u001b[0mdtype\u001b[0m\u001b[0;34m=\u001b[0m\u001b[0mdtype\u001b[0m\u001b[0;34m)\u001b[0m\u001b[0;34m\u001b[0m\u001b[0;34m\u001b[0m\u001b[0m\n\u001b[1;32m    677\u001b[0m         \u001b[0;32mif\u001b[0m \u001b[0mdtype\u001b[0m \u001b[0;32mis\u001b[0m \u001b[0;32mNone\u001b[0m\u001b[0;34m:\u001b[0m\u001b[0;34m\u001b[0m\u001b[0;34m\u001b[0m\u001b[0m\n\u001b[0;32m--> 678\u001b[0;31m             \u001b[0;32mreturn\u001b[0m \u001b[0mself\u001b[0m\u001b[0;34m.\u001b[0m\u001b[0mnumpy\u001b[0m\u001b[0;34m(\u001b[0m\u001b[0;34m)\u001b[0m\u001b[0;34m\u001b[0m\u001b[0;34m\u001b[0m\u001b[0m\n\u001b[0m\u001b[1;32m    679\u001b[0m         \u001b[0;32melse\u001b[0m\u001b[0;34m:\u001b[0m\u001b[0;34m\u001b[0m\u001b[0;34m\u001b[0m\u001b[0m\n\u001b[1;32m    680\u001b[0m             \u001b[0;32mreturn\u001b[0m \u001b[0mself\u001b[0m\u001b[0;34m.\u001b[0m\u001b[0mnumpy\u001b[0m\u001b[0;34m(\u001b[0m\u001b[0;34m)\u001b[0m\u001b[0;34m.\u001b[0m\u001b[0mastype\u001b[0m\u001b[0;34m(\u001b[0m\u001b[0mdtype\u001b[0m\u001b[0;34m,\u001b[0m \u001b[0mcopy\u001b[0m\u001b[0;34m=\u001b[0m\u001b[0;32mFalse\u001b[0m\u001b[0;34m)\u001b[0m\u001b[0;34m\u001b[0m\u001b[0;34m\u001b[0m\u001b[0m\n",
            "\u001b[0;31mTypeError\u001b[0m: can't convert cuda:0 device type tensor to numpy. Use Tensor.cpu() to copy the tensor to host memory first."
          ]
        }
      ]
    },
    {
      "cell_type": "code",
      "source": [
        "# GRU 모델 학습\n",
        "gru, gru_val_acc_history = train_model(gru, dataloaders_dict, criterion, 300,\"LSTM\",\n",
        "                                       optimizer=optim.Adam(gru.parameters(), lr=0.0001))"
      ],
      "metadata": {
        "id": "xP55Y46F7xbx",
        "colab": {
          "base_uri": "https://localhost:8080/",
          "height": 211
        },
        "outputId": "d8d936d2-26c9-4031-a4a1-f7008ebf85fb"
      },
      "execution_count": 1,
      "outputs": [
        {
          "output_type": "error",
          "ename": "NameError",
          "evalue": "ignored",
          "traceback": [
            "\u001b[0;31m---------------------------------------------------------------------------\u001b[0m",
            "\u001b[0;31mNameError\u001b[0m                                 Traceback (most recent call last)",
            "\u001b[0;32m<ipython-input-1-2049eb87236e>\u001b[0m in \u001b[0;36m<module>\u001b[0;34m()\u001b[0m\n\u001b[1;32m      1\u001b[0m \u001b[0;31m# GRU 모델 학습\u001b[0m\u001b[0;34m\u001b[0m\u001b[0;34m\u001b[0m\u001b[0;34m\u001b[0m\u001b[0m\n\u001b[0;32m----> 2\u001b[0;31m gru, gru_val_acc_history = train_model(gru, dataloaders_dict, criterion, 300,\"LSTM\",\n\u001b[0m\u001b[1;32m      3\u001b[0m                                        optimizer=optim.Adam(gru.parameters(), lr=0.0001))\n",
            "\u001b[0;31mNameError\u001b[0m: name 'train_model' is not defined"
          ]
        }
      ]
    },
    {
      "cell_type": "markdown",
      "source": [
        "## Testing"
      ],
      "metadata": {
        "id": "rMoKFsuY73OU"
      }
    },
    {
      "cell_type": "code",
      "source": [
        "def test_model(model, test_loader):\n",
        "    model.eval()   # 모델을 validation mode로 설정\n",
        "    \n",
        "    # test_loader에 대하여 검증 진행 (gradient update 방지)\n",
        "    with torch.no_grad():\n",
        "        running_loss = 0\n",
        "        running_total = 0\n",
        "        for inputs, labels in test_loader:\n",
        "            inputs = inputs.to(device)\n",
        "            labels = labels.to(device, dtype=torch.float32)\n",
        "\n",
        "            # forward\n",
        "            # input을 model에 넣어 output을 도출\n",
        "            outputs = model(inputs)\n",
        "\n",
        "            # output 중 최댓값의 위치에 해당하는 class로 예측을 수행\n",
        "            loss = criterion(outputs.to(torch.float32), labels.to(torch.float32))\n",
        "            # batch별 정답 개수를 축적함\n",
        "            running_loss += loss.item() * inputs.size(0)\n",
        "            running_total += labels.size(0)\n",
        "\n",
        "\n",
        "    # accuracy를 도출함\n",
        "    test_acc = running_loss / running_total\n",
        "    print('Testing Acc: {:4f}'.format(test_acc))\n",
        "    \n",
        "    return test_acc"
      ],
      "metadata": {
        "id": "evZV3zXC70nC"
      },
      "execution_count": null,
      "outputs": []
    },
    {
      "cell_type": "code",
      "source": [
        "# LSTM 모델 검증 (Acc: 0.7333)\n",
        "lstm2 = RNN(input_size, hidden_size, num_layers, bidirectional, rnn_type='lstm')\n",
        "lstm2 = lstm2.to(device)\n",
        "\n",
        "ckpt = torch.load('best_model_LSTM.pt')\n",
        "lstm2.load_state_dict(ckpt)\n",
        "test_model(lstm2, test_loader)"
      ],
      "metadata": {
        "id": "bBLYdmSh752Q"
      },
      "execution_count": null,
      "outputs": []
    },
    {
      "cell_type": "code",
      "source": [
        "# GRU 모델 검증 (Acc: 0.7333)\n",
        "test_model( gru, test_loader)"
      ],
      "metadata": {
        "id": "0HZzoOYO7899"
      },
      "execution_count": null,
      "outputs": []
    }
  ]
}